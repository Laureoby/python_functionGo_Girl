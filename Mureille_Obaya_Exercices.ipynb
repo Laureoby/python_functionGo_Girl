{
 "cells": [
  {
   "cell_type": "markdown",
   "id": "985cf550",
   "metadata": {},
   "source": [
    "# Mureille Laure Obaya exercices: DS avanced"
   ]
  },
  {
   "cell_type": "markdown",
   "id": "79aaea3b",
   "metadata": {},
   "source": [
    "#### Function Composition: Define a function “compose” that takes two functions f and g as arguments and returns a new function that computes f(g(x)). Test it with appropriate functions."
   ]
  },
  {
   "cell_type": "code",
   "execution_count": 1,
   "id": "f7473d74",
   "metadata": {},
   "outputs": [
    {
     "name": "stdout",
     "output_type": "stream",
     "text": [
      "2\n",
      "The result is 1\n"
     ]
    }
   ],
   "source": [
    "#compose function\n",
    "#function which calculate square of one number\n",
    "def X(x):\n",
    "    return x**2\n",
    "\n",
    "#function which substract 3 to one number\n",
    "def Y(x):\n",
    "    return x-3\n",
    "\n",
    "#association of two functions above\n",
    "def XYfunction(x):\n",
    "    return Y(X(x))\n",
    "\n",
    "#evaluation of function XY\n",
    "result = int(input())\n",
    "print(f\"The result is {XYfunction(result)}\")"
   ]
  },
  {
   "cell_type": "markdown",
   "id": "1414a426",
   "metadata": {},
   "source": [
    "#### Generator Functions: Create a generator function fibonacci that generates Fibonacci numbers infinitely. Test it by generating the first 20 Fibonacci numbers."
   ]
  },
  {
   "cell_type": "code",
   "execution_count": 4,
   "id": "477a85bd",
   "metadata": {},
   "outputs": [
    {
     "name": "stdout",
     "output_type": "stream",
     "text": [
      "Input an int for fibonacci calculation: \n",
      "5\n",
      "0\n",
      "1\n",
      "1\n",
      "2\n",
      "3\n"
     ]
    }
   ],
   "source": [
    "#generator function\n",
    "def fibonacci_gen(max):\n",
    "    a, b = 0, 1\n",
    "    while a < max:\n",
    "        yield a\n",
    "        a, b = b, a + b\n",
    "        \n",
    "print(\"Input an int for fibonacci calculation: \")       \n",
    "n = int(input())\n",
    "for number in fibonacci_gen(n):\n",
    "    print(number)"
   ]
  },
  {
   "cell_type": "markdown",
   "id": "b4f078fd",
   "metadata": {},
   "source": [
    "#### Recursion: Write a recursive function “binary_seaarch” that implements the binary search algorithm to find the index of a target element in a sorted list."
   ]
  },
  {
   "cell_type": "code",
   "execution_count": 7,
   "id": "3f22a4d5",
   "metadata": {},
   "outputs": [
    {
     "name": "stdout",
     "output_type": "stream",
     "text": [
      "4\n"
     ]
    }
   ],
   "source": [
    "#binary_search function, the list must be ordered\n",
    "def binary_search(arr, target, low, high):\n",
    "    #condition: if low exceeds high, target is not present\n",
    "    if low > high:\n",
    "        return -1\n",
    "    \n",
    "    #Find middle element\n",
    "    mid = (low + high) // 2\n",
    "    \n",
    "    #If the middle element is equal to target, we found the index\n",
    "    if arr[mid] == target:\n",
    "        return mid\n",
    "    #If the middle element is smaller than target, search the left sublist\n",
    "    elif arr[mid] > target:\n",
    "        return binary_search(arr, target, low, mid - 1)\n",
    "    #If the middle element is smaller than target, search the right sublist\n",
    "    else:\n",
    "        return binary_search(arr, target, mid + 1, high)\n",
    "\n",
    "#Use case :\n",
    "arr = [1, 2, 3, 4, 5, 6, 7, 8, 9, 10]  #ordered list\n",
    "target = 5\n",
    "print(binary_search(arr, target, 0, len(arr) - 1))"
   ]
  },
  {
   "cell_type": "code",
   "execution_count": null,
   "id": "a2139b83",
   "metadata": {},
   "outputs": [],
   "source": []
  }
 ],
 "metadata": {
  "kernelspec": {
   "display_name": "Python 3 (ipykernel)",
   "language": "python",
   "name": "python3"
  },
  "language_info": {
   "codemirror_mode": {
    "name": "ipython",
    "version": 3
   },
   "file_extension": ".py",
   "mimetype": "text/x-python",
   "name": "python",
   "nbconvert_exporter": "python",
   "pygments_lexer": "ipython3",
   "version": "3.8.10"
  }
 },
 "nbformat": 4,
 "nbformat_minor": 5
}
